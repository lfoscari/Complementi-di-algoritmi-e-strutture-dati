{
 "cells": [
  {
   "cell_type": "markdown",
   "metadata": {},
   "source": [
    "Dato un grafo $G=(V, E)$ non orientato voglio trovarne il taglio minimo\n",
    "$$ \\underset{S, T}{\\mathrm{argmin}} \\ \\Gamma(S, T)$$"
   ]
  },
  {
   "cell_type": "code",
   "execution_count": 172,
   "metadata": {},
   "outputs": [],
   "source": [
    "import random\n",
    "\n",
    "Gr = [(1, 2), (1, 2), (1, 3), (1, 3), (2, 3), (2, 3), (2, 3)]"
   ]
  },
  {
   "cell_type": "code",
   "execution_count": 178,
   "metadata": {},
   "outputs": [
    {
     "data": {
      "text/plain": [
       "([[1, 2], [3]], 5)"
      ]
     },
     "execution_count": 178,
     "metadata": {},
     "output_type": "execute_result"
    }
   ],
   "source": [
    "def whataknife(G):\n",
    "    supervertex = { v: [v] for v in set(sum(G, ())) }\n",
    "    while(len(supervertex.keys()) > 2):\n",
    "        u, v = random.choice(G)\n",
    "\n",
    "        supervertex[u].append(v)\n",
    "        del supervertex[v]\n",
    "\n",
    "        G = list(filter(lambda t: not(sorted(t) == sorted((u, v))), G))\n",
    "        G = list(map(lambda t: (u, t[0]) if t[0] == v else t, G))\n",
    "    return (list(supervertex.values()), len(G))\n",
    "\n",
    "# Output: [S, T], Gamma(S, T)\n",
    "whataknife(GrB)"
   ]
  }
 ],
 "metadata": {
  "kernelspec": {
   "display_name": "Python 3",
   "language": "python",
   "name": "python3"
  },
  "language_info": {
   "codemirror_mode": {
    "name": "ipython",
    "version": 3
   },
   "file_extension": ".py",
   "mimetype": "text/x-python",
   "name": "python",
   "nbconvert_exporter": "python",
   "pygments_lexer": "ipython3",
   "version": "3.7.7"
  }
 },
 "nbformat": 4,
 "nbformat_minor": 4
}
