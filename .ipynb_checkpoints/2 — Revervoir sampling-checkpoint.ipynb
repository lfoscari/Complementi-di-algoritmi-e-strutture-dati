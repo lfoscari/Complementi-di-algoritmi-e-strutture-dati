{
 "cells": [
  {
   "cell_type": "markdown",
   "metadata": {},
   "source": [
    "Dato uno stream di elementi voglio selezionarne $k$ casualmente."
   ]
  },
  {
   "cell_type": "code",
   "execution_count": 28,
   "metadata": {},
   "outputs": [],
   "source": [
    "import random\n",
    "from scipy.stats import bernoulli\n",
    "\n",
    "stream = [ random.randrange(50) for x in range(1000) ]\n",
    "k = 10"
   ]
  },
  {
   "cell_type": "code",
   "execution_count": 114,
   "metadata": {},
   "outputs": [
    {
     "data": {
      "text/plain": [
       "[2, 9, 25, 27, 26, 38, 49, 43, 16, 38]"
      ]
     },
     "execution_count": 114,
     "metadata": {},
     "output_type": "execute_result"
    }
   ],
   "source": [
    "def kofthebest(xs, k):\n",
    "    res = []\n",
    "    t = 0\n",
    "    for x in stream:\n",
    "        if t < k:\n",
    "            res.append(x)\n",
    "        elif bernoulli.rvs(k / t, size=1)[0]:\n",
    "            res[random.randrange(t)] = x\n",
    "        t += 1\n",
    "    return res\n",
    "\n",
    "kofthebest(stream, k)"
   ]
  }
 ],
 "metadata": {
  "kernelspec": {
   "display_name": "Python 3",
   "language": "python",
   "name": "python3"
  },
  "language_info": {
   "codemirror_mode": {
    "name": "ipython",
    "version": 3
   },
   "file_extension": ".py",
   "mimetype": "text/x-python",
   "name": "python",
   "nbconvert_exporter": "python",
   "pygments_lexer": "ipython3",
   "version": "3.7.7"
  }
 },
 "nbformat": 4,
 "nbformat_minor": 4
}
