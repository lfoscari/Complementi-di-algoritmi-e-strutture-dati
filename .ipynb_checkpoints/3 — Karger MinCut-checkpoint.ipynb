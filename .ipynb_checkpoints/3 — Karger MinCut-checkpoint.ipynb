{
 "cells": [
  {
   "cell_type": "markdown",
   "metadata": {},
   "source": [
    "Dato un grafo $G=(V, E)$ non orientato voglio trovarne il taglio minimo\n",
    "$$ \\underset{S, T}{\\mathrm{argmin}} \\ \\Gamma(S, T)$$"
   ]
  },
  {
   "cell_type": "code",
   "execution_count": 13,
   "metadata": {},
   "outputs": [],
   "source": [
    "import random\n",
    "\n",
    "G = [(1, 2), (1, 2), (1, 3), (1, 3), (2, 3), (2, 3), (2, 3)]"
   ]
  },
  {
   "cell_type": "code",
   "execution_count": 26,
   "metadata": {},
   "outputs": [],
   "source": [
    "def karger(G):\n",
    "    supervertex = { v: [v] for v in set(sum(G, ())) }\n",
    "    while(len(supervertex.keys()) > 2):\n",
    "        u, v = random.choice(G)\n",
    "\n",
    "        supervertex[u].append(v)\n",
    "        del supervertex[v]\n",
    "\n",
    "        G = list(filter(lambda t: not(sorted(t) == sorted((u, v))), G))\n",
    "        G = list(map(lambda t: (u, t[0]) if t[0] == v else t, G))\n",
    "    return tuple(supervertex.values()), len(G)"
   ]
  },
  {
   "cell_type": "code",
   "execution_count": 27,
   "metadata": {},
   "outputs": [
    {
     "data": {
      "text/plain": [
       "(([1], [2, 3]), 4)"
      ]
     },
     "execution_count": 27,
     "metadata": {},
     "output_type": "execute_result"
    }
   ],
   "source": [
    "# Output: [S, T], Gamma(S, T)\n",
    "karger(G)"
   ]
  }
 ],
 "metadata": {
  "kernelspec": {
   "display_name": "Python 3",
   "language": "python",
   "name": "python3"
  },
  "language_info": {
   "codemirror_mode": {
    "name": "ipython",
    "version": 3
   },
   "file_extension": ".py",
   "mimetype": "text/x-python",
   "name": "python",
   "nbconvert_exporter": "python",
   "pygments_lexer": "ipython3",
   "version": "3.7.7"
  }
 },
 "nbformat": 4,
 "nbformat_minor": 4
}
