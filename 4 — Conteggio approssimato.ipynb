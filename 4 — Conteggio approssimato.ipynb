{
 "cells": [
  {
   "cell_type": "markdown",
   "metadata": {},
   "source": [
    "Data una tabella di grandezza $n$ voglio trovare tutti gli elementi che si ripetono almeno $\\frac{n}{k}$ volte. Questa è un'implementazione naïve che non utilizza hashing universale."
   ]
  },
  {
   "cell_type": "markdown",
   "metadata": {},
   "source": [
    "---"
   ]
  },
  {
   "cell_type": "markdown",
   "metadata": {},
   "source": [
    "Esempio con $k = 2$, algoritmo di Boyer-Moore"
   ]
  },
  {
   "cell_type": "code",
   "execution_count": 2,
   "metadata": {},
   "outputs": [],
   "source": [
    "import random\n",
    "\n",
    "T = [ random.randrange(50) for x in range(1000) ]"
   ]
  },
  {
   "cell_type": "code",
   "execution_count": 17,
   "metadata": {},
   "outputs": [
    {
     "data": {
      "text/plain": [
       "1"
      ]
     },
     "execution_count": 17,
     "metadata": {},
     "output_type": "execute_result"
    }
   ],
   "source": [
    "def boyermoore(T):\n",
    "    c = 0\n",
    "    v = 0\n",
    "    for i in T:\n",
    "        if c == 0:\n",
    "            v = i\n",
    "            c += 1\n",
    "        elif i == v:\n",
    "            c += 1\n",
    "        else:\n",
    "            c -= 1\n",
    "    return v\n",
    "\n",
    "boyermoore(T)"
   ]
  },
  {
   "cell_type": "markdown",
   "metadata": {},
   "source": [
    "---"
   ]
  },
  {
   "cell_type": "markdown",
   "metadata": {},
   "source": [
    "Innanizitutto creo la struttura count-min sketch"
   ]
  },
  {
   "cell_type": "code",
   "execution_count": 1,
   "metadata": {},
   "outputs": [],
   "source": [
    "class CMS:\n",
    "    def __init__(self, l, b):\n",
    "        self.b = b\n",
    "        self.M = [ [ 0 for j in range(b) ] for i in range(l) ]\n",
    "        \n",
    "    def inc(self, x):\n",
    "        for r in self.M:\n",
    "            r[hash(x) % self.b] += 1\n",
    "\n",
    "    def count(self, x):\n",
    "        return min([ r[hash(x) % self.b] for r in self.M ])"
   ]
  },
  {
   "cell_type": "markdown",
   "metadata": {},
   "source": [
    "Ora eseguo `inc` su ogni elemento della mia tabella e con `count` posso avere un'approssimazione del numero di volte in cui appare"
   ]
  },
  {
   "cell_type": "code",
   "execution_count": 21,
   "metadata": {},
   "outputs": [
    {
     "data": {
      "text/plain": [
       "{49: 24,\n",
       " 25: 29,\n",
       " 9: 26,\n",
       " 35: 17,\n",
       " 40: 28,\n",
       " 5: 15,\n",
       " 16: 23,\n",
       " 36: 28,\n",
       " 19: 16,\n",
       " 43: 19,\n",
       " 7: 23,\n",
       " 14: 14,\n",
       " 31: 17,\n",
       " 47: 17,\n",
       " 10: 15,\n",
       " 20: 19,\n",
       " 44: 17,\n",
       " 32: 18,\n",
       " 22: 22,\n",
       " 23: 24,\n",
       " 26: 16,\n",
       " 45: 23,\n",
       " 13: 23,\n",
       " 29: 25,\n",
       " 48: 20,\n",
       " 17: 24,\n",
       " 3: 21,\n",
       " 34: 19,\n",
       " 39: 25,\n",
       " 37: 22,\n",
       " 41: 22,\n",
       " 33: 23,\n",
       " 2: 11,\n",
       " 24: 14,\n",
       " 8: 13,\n",
       " 4: 29,\n",
       " 42: 16,\n",
       " 38: 17,\n",
       " 27: 21,\n",
       " 11: 22,\n",
       " 6: 18,\n",
       " 28: 21,\n",
       " 1: 19,\n",
       " 18: 20,\n",
       " 12: 21,\n",
       " 15: 21,\n",
       " 21: 17,\n",
       " 46: 22,\n",
       " 30: 15,\n",
       " 0: 9}"
      ]
     },
     "execution_count": 21,
     "metadata": {},
     "output_type": "execute_result"
    }
   ],
   "source": [
    "from array import array \n",
    "\n",
    "M = CMS(10, 50) # 10 tabelle da 50 elementi => 500 righe (|T| = 1000)\n",
    "[ M.inc(x) for x in T ]\n",
    "{ x: M.count(x) for x in T }"
   ]
  },
  {
   "cell_type": "markdown",
   "metadata": {},
   "source": [
    "Verifico i risultati"
   ]
  },
  {
   "cell_type": "code",
   "execution_count": 16,
   "metadata": {},
   "outputs": [
    {
     "data": {
      "text/plain": [
       "{49: 24,\n",
       " 25: 29,\n",
       " 9: 26,\n",
       " 35: 17,\n",
       " 40: 28,\n",
       " 5: 15,\n",
       " 16: 23,\n",
       " 36: 28,\n",
       " 19: 16,\n",
       " 43: 19,\n",
       " 7: 23,\n",
       " 14: 14,\n",
       " 31: 17,\n",
       " 47: 17,\n",
       " 10: 15,\n",
       " 20: 19,\n",
       " 44: 17,\n",
       " 32: 18,\n",
       " 22: 22,\n",
       " 23: 24,\n",
       " 26: 16,\n",
       " 45: 23,\n",
       " 13: 23,\n",
       " 29: 25,\n",
       " 48: 20,\n",
       " 17: 24,\n",
       " 3: 21,\n",
       " 34: 19,\n",
       " 39: 25,\n",
       " 37: 22,\n",
       " 41: 22,\n",
       " 33: 23,\n",
       " 2: 11,\n",
       " 24: 14,\n",
       " 8: 13,\n",
       " 4: 29,\n",
       " 42: 16,\n",
       " 38: 17,\n",
       " 27: 21,\n",
       " 11: 22,\n",
       " 6: 18,\n",
       " 28: 21,\n",
       " 1: 19,\n",
       " 18: 20,\n",
       " 12: 21,\n",
       " 15: 21,\n",
       " 21: 17,\n",
       " 46: 22,\n",
       " 30: 15,\n",
       " 0: 9}"
      ]
     },
     "execution_count": 16,
     "metadata": {},
     "output_type": "execute_result"
    }
   ],
   "source": [
    "v = dict()\n",
    "for x in T:\n",
    "    v[x] = v.setdefault(x, 0) + 1\n",
    "v"
   ]
  }
 ],
 "metadata": {
  "kernelspec": {
   "display_name": "Python 3",
   "language": "python",
   "name": "python3"
  },
  "language_info": {
   "codemirror_mode": {
    "name": "ipython",
    "version": 3
   },
   "file_extension": ".py",
   "mimetype": "text/x-python",
   "name": "python",
   "nbconvert_exporter": "python",
   "pygments_lexer": "ipython3",
   "version": "3.7.7"
  }
 },
 "nbformat": 4,
 "nbformat_minor": 4
}
