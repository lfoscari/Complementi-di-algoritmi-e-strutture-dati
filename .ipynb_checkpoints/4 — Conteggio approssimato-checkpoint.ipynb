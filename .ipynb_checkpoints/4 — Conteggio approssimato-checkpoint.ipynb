{
 "cells": [
  {
   "cell_type": "markdown",
   "metadata": {},
   "source": [
    "Data una tabella di grandezza $n$ voglio trovare tutti gli elementi che si ripetono almeno $\\frac{n}{k}$ volte. Questa è un'implementazione naïve che non utilizza hashing universale."
   ]
  },
  {
   "cell_type": "code",
   "execution_count": 42,
   "metadata": {},
   "outputs": [],
   "source": [
    "import random"
   ]
  },
  {
   "cell_type": "code",
   "execution_count": 43,
   "metadata": {},
   "outputs": [],
   "source": [
    "T = [ random.randrange(50) for x in range(1000) ]"
   ]
  },
  {
   "cell_type": "markdown",
   "metadata": {},
   "source": [
    "---"
   ]
  },
  {
   "cell_type": "markdown",
   "metadata": {},
   "source": [
    "Esempio con $k = 2$, algoritmo di Boyer-Moore"
   ]
  },
  {
   "cell_type": "code",
   "execution_count": 44,
   "metadata": {},
   "outputs": [],
   "source": [
    "def boyermoore(T):\n",
    "    c = 0\n",
    "    v = 0\n",
    "    for i in T:\n",
    "        if c == 0:\n",
    "            v = i\n",
    "            c += 1\n",
    "        elif i == v:\n",
    "            c += 1\n",
    "        else:\n",
    "            c -= 1\n",
    "    return v"
   ]
  },
  {
   "cell_type": "markdown",
   "metadata": {},
   "source": [
    "---"
   ]
  },
  {
   "cell_type": "markdown",
   "metadata": {},
   "source": [
    "Con $k > 2$ la soluzione precedente non è più utilizzabile. Innanizitutto creo la struttura count-min sketch, questa implementazione non fa uso di una famiglia universale di funzioni hash (nel futuro la implementerò)."
   ]
  },
  {
   "cell_type": "code",
   "execution_count": 54,
   "metadata": {},
   "outputs": [],
   "source": [
    "class CMS:\n",
    "    def __init__(self, l, b):\n",
    "        self.b = b\n",
    "        self.M = [ [ 0 for j in range(b) ] for i in range(l) ]\n",
    "        \n",
    "    def inc(self, x):\n",
    "        for r in self.M:\n",
    "            r[hash(x) % self.b] += 1\n",
    "\n",
    "    def count(self, x):\n",
    "        return min([ r[hash(x) % self.b] for r in self.M ])"
   ]
  },
  {
   "cell_type": "markdown",
   "metadata": {},
   "source": [
    "Ora eseguo `inc` su ogni elemento della mia tabella e con `count` posso avere un'approssimazione del numero di volte in cui appare"
   ]
  },
  {
   "cell_type": "code",
   "execution_count": 72,
   "metadata": {},
   "outputs": [
    {
     "data": {
      "text/plain": [
       "{19: 21,\n",
       " 6: 51,\n",
       " 24: 26,\n",
       " 32: 19,\n",
       " 26: 28,\n",
       " 29: 25,\n",
       " 42: 38,\n",
       " 4: 37,\n",
       " 27: 17,\n",
       " 30: 18,\n",
       " 34: 14,\n",
       " 44: 37,\n",
       " 7: 48,\n",
       " 14: 24,\n",
       " 31: 26,\n",
       " 1: 40,\n",
       " 5: 44,\n",
       " 39: 16,\n",
       " 49: 45,\n",
       " 40: 36,\n",
       " 20: 11,\n",
       " 43: 46,\n",
       " 28: 17,\n",
       " 38: 18,\n",
       " 2: 38,\n",
       " 41: 40,\n",
       " 3: 46,\n",
       " 48: 29,\n",
       " 9: 45,\n",
       " 22: 17,\n",
       " 17: 15,\n",
       " 33: 17,\n",
       " 37: 11,\n",
       " 21: 22,\n",
       " 45: 44,\n",
       " 10: 21,\n",
       " 13: 22,\n",
       " 15: 22,\n",
       " 11: 25,\n",
       " 16: 16,\n",
       " 35: 17,\n",
       " 18: 23,\n",
       " 8: 29,\n",
       " 25: 21,\n",
       " 23: 14,\n",
       " 36: 26,\n",
       " 12: 17,\n",
       " 47: 48,\n",
       " 46: 51,\n",
       " 0: 36}"
      ]
     },
     "execution_count": 72,
     "metadata": {},
     "output_type": "execute_result"
    }
   ],
   "source": [
    "M = CMS(10, 40) # 10 tabelle da 40 elementi => 400 righe (|T| = 1000)\n",
    "for x in T: M.inc(x)\n",
    "cms_count = { x: M.count(x) for x in T }\n",
    "cms_count"
   ]
  },
  {
   "cell_type": "markdown",
   "metadata": {},
   "source": [
    "Verifico i risultati"
   ]
  },
  {
   "cell_type": "code",
   "execution_count": 68,
   "metadata": {},
   "outputs": [
    {
     "data": {
      "text/plain": [
       "{19: 21,\n",
       " 6: 22,\n",
       " 24: 26,\n",
       " 32: 19,\n",
       " 26: 28,\n",
       " 29: 25,\n",
       " 42: 20,\n",
       " 4: 19,\n",
       " 27: 17,\n",
       " 30: 18,\n",
       " 34: 14,\n",
       " 44: 18,\n",
       " 7: 26,\n",
       " 14: 24,\n",
       " 31: 26,\n",
       " 1: 24,\n",
       " 5: 23,\n",
       " 39: 16,\n",
       " 49: 22,\n",
       " 40: 18,\n",
       " 20: 11,\n",
       " 43: 22,\n",
       " 28: 17,\n",
       " 38: 18,\n",
       " 2: 18,\n",
       " 41: 16,\n",
       " 3: 24,\n",
       " 48: 16,\n",
       " 9: 23,\n",
       " 22: 17,\n",
       " 17: 15,\n",
       " 33: 17,\n",
       " 37: 11,\n",
       " 21: 22,\n",
       " 45: 21,\n",
       " 10: 21,\n",
       " 13: 22,\n",
       " 15: 22,\n",
       " 11: 25,\n",
       " 16: 16,\n",
       " 35: 17,\n",
       " 18: 23,\n",
       " 8: 13,\n",
       " 25: 21,\n",
       " 23: 14,\n",
       " 36: 26,\n",
       " 12: 17,\n",
       " 47: 22,\n",
       " 46: 29,\n",
       " 0: 18}"
      ]
     },
     "execution_count": 68,
     "metadata": {},
     "output_type": "execute_result"
    }
   ],
   "source": [
    "count = dict()\n",
    "for x in T:\n",
    "    count[x] = count.setdefault(x, 0) + 1\n",
    "count"
   ]
  },
  {
   "cell_type": "markdown",
   "metadata": {},
   "source": [
    "Quanto distano i due risultati? Calcolo l'errore medio"
   ]
  },
  {
   "cell_type": "code",
   "execution_count": 71,
   "metadata": {},
   "outputs": [
    {
     "data": {
      "text/plain": [
       "8.28"
      ]
     },
     "execution_count": 71,
     "metadata": {},
     "output_type": "execute_result"
    }
   ],
   "source": [
    "sum([ abs(cms_count[x] - count[x]) for x in count ]) / len(count)"
   ]
  }
 ],
 "metadata": {
  "kernelspec": {
   "display_name": "Python 3",
   "language": "python",
   "name": "python3"
  },
  "language_info": {
   "codemirror_mode": {
    "name": "ipython",
    "version": 3
   },
   "file_extension": ".py",
   "mimetype": "text/x-python",
   "name": "python",
   "nbconvert_exporter": "python",
   "pygments_lexer": "ipython3",
   "version": "3.7.7"
  }
 },
 "nbformat": 4,
 "nbformat_minor": 4
}
