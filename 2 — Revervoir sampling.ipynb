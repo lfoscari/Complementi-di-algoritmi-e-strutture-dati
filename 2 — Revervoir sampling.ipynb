{
 "cells": [
  {
   "cell_type": "markdown",
   "metadata": {},
   "source": [
    "Dato uno stream di elementi voglio selezionarne $k$ casualmente."
   ]
  },
  {
   "cell_type": "code",
   "execution_count": 28,
   "metadata": {},
   "outputs": [],
   "source": [
    "import random\n",
    "from scipy.stats import bernoulli\n",
    "\n",
    "stream = [ random.randrange(50) for x in range(1000) ]\n",
    "k = 10"
   ]
  },
  {
   "cell_type": "code",
   "execution_count": 150,
   "metadata": {},
   "outputs": [
    {
     "data": {
      "text/plain": [
       "[31, 47, 21, 23, 20, 40, 7, 12, 17, 4]"
      ]
     },
     "execution_count": 150,
     "metadata": {},
     "output_type": "execute_result"
    }
   ],
   "source": [
    "def kofthebest(xs, k):\n",
    "    R = []\n",
    "    for t, x in enumerate(stream):\n",
    "        if t < k:\n",
    "            R.append(x)\n",
    "        elif bernoulli.rvs(k / t):\n",
    "            R[random.randrange(k)] = x\n",
    "    return R\n",
    "\n",
    "kofthebest(stream, k)"
   ]
  }
 ],
 "metadata": {
  "kernelspec": {
   "display_name": "Python 3",
   "language": "python",
   "name": "python3"
  },
  "language_info": {
   "codemirror_mode": {
    "name": "ipython",
    "version": 3
   },
   "file_extension": ".py",
   "mimetype": "text/x-python",
   "name": "python",
   "nbconvert_exporter": "python",
   "pygments_lexer": "ipython3",
   "version": "3.7.7"
  }
 },
 "nbformat": 4,
 "nbformat_minor": 4
}
