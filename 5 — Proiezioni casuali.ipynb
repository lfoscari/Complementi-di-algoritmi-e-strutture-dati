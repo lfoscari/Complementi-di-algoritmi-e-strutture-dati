{
 "cells": [
  {
   "cell_type": "markdown",
   "metadata": {},
   "source": [
    "Genero i vettori $Z_j$ tramite una distribuzione gaussiana normale. $$Z_1, \\ldots, Z_k \\qquad f: \\mathbb{R}^d \\mapsto \\mathbb{R}^k$$"
   ]
  },
  {
   "cell_type": "code",
   "execution_count": 51,
   "metadata": {},
   "outputs": [],
   "source": [
    "from scipy.stats import norm\n",
    "from functools import reduce\n",
    "import random\n",
    "import math\n",
    "\n",
    "def distance(x, y):\n",
    "    return math.sqrt(sum([ math.pow(x1 - y1, 2) for x1 in x for y1 in y ]))"
   ]
  },
  {
   "cell_type": "code",
   "execution_count": 43,
   "metadata": {},
   "outputs": [],
   "source": [
    "d = 1000\n",
    "k = 50\n",
    "\n",
    "Z = [ list(norm.rvs(size=d)) for x in range(k) ]\n",
    "\n",
    "def f(x):\n",
    "    def _f(j, x):\n",
    "        return sum([ Z[j][i] * x[i] for i in range(d) ])\n",
    "    return [ _f(i, x) / math.sqrt(k) for i in range(k) ]"
   ]
  },
  {
   "cell_type": "markdown",
   "metadata": {},
   "source": [
    "Ora genero un insieme $S \\subset \\mathbb{R}^d$ di cardinalità $n$ e verifico che a due a due norma cambi a meno di una costante moltiplicativa dopo averli mappati in $\\mathbb{R}^k$."
   ]
  },
  {
   "cell_type": "code",
   "execution_count": 59,
   "metadata": {},
   "outputs": [
    {
     "data": {
      "text/plain": [
       "{(0, 0): 41640.36925868934,\n",
       " (0, 1): 41060.515145331534,\n",
       " (0, 2): 40871.80720252042,\n",
       " (0, 3): 41234.437646219936,\n",
       " (0, 4): 41113.76314569125,\n",
       " (1, 0): 41060.515145331534,\n",
       " (1, 1): 40257.781334792904,\n",
       " (1, 2): 40204.24912866798,\n",
       " (1, 3): 40566.24515530122,\n",
       " (1, 4): 40396.39575506706,\n",
       " (2, 0): 40871.80720252042,\n",
       " (2, 1): 40204.24912866798,\n",
       " (2, 2): 40061.106924297535,\n",
       " (2, 3): 40428.650435056574,\n",
       " (2, 4): 40288.711073947255,\n",
       " (3, 0): 41234.437646219936,\n",
       " (3, 1): 40566.24515530122,\n",
       " (3, 2): 40428.650435056574,\n",
       " (3, 3): 40792.67951483452,\n",
       " (3, 4): 40652.54272490222,\n",
       " (4, 0): 41113.76314569125,\n",
       " (4, 1): 40396.39575506706,\n",
       " (4, 2): 40288.711073947255,\n",
       " (4, 3): 40652.54272490222,\n",
       " (4, 4): 40501.55490842296}"
      ]
     },
     "execution_count": 59,
     "metadata": {},
     "output_type": "execute_result"
    }
   ],
   "source": [
    "n = 5\n",
    "S = { i: [ random.randrange(100) for a in range(d) ] for i in range(n) }\n",
    "\n",
    "S_k = { i: f(S[i]) for i in S }\n",
    "\n",
    "{ (i, j): distance(S[i], S[j]) for i in S for j in S }"
   ]
  }
 ],
 "metadata": {
  "kernelspec": {
   "display_name": "Python 3",
   "language": "python",
   "name": "python3"
  },
  "language_info": {
   "codemirror_mode": {
    "name": "ipython",
    "version": 3
   },
   "file_extension": ".py",
   "mimetype": "text/x-python",
   "name": "python",
   "nbconvert_exporter": "python",
   "pygments_lexer": "ipython3",
   "version": "3.7.7"
  }
 },
 "nbformat": 4,
 "nbformat_minor": 4
}
